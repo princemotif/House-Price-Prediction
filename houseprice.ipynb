{
 "cells": [
  {
   "cell_type": "code",
   "execution_count": 11,
   "id": "fab5e1dc-5126-4978-a0f8-06d1e4d3fe7c",
   "metadata": {},
   "outputs": [
    {
     "name": "stdout",
     "output_type": "stream",
     "text": [
      "Libraries loaded successfully!\n"
     ]
    }
   ],
   "source": [
    "import pandas as pd\n",
    "import numpy as np\n",
    "import matplotlib.pyplot as plt\n",
    "from sklearn.model_selection import train_test_split\n",
    "from sklearn.linear_model import LinearRegression\n",
    "from sklearn.metrics import mean_absolute_error\n",
    "\n",
    "# Ignore warnings\n",
    "import warnings\n",
    "warnings.filterwarnings(\"ignore\")\n",
    "\n",
    "print(\"Libraries loaded successfully!\")\n"
   ]
  },
  {
   "cell_type": "code",
   "execution_count": 20,
   "id": "0763d572-4e2e-4f2d-9ab4-95c7fa101eb6",
   "metadata": {},
   "outputs": [
    {
     "name": "stdout",
     "output_type": "stream",
     "text": [
      "   Area (sq ft)  Bedrooms  Age (years)  Price (in lakhs)\n",
      "0          1000         2            5                50\n",
      "1          1500         3           10                70\n",
      "2          2000         3           15                90\n",
      "3          2500         4           20               110\n",
      "4          3000         4           25               130\n",
      "5          3500         5           30               150\n",
      "6          4000         5           35               170\n",
      "7          5000         5           75                34\n"
     ]
    }
   ],
   "source": [
    "# Creating a sample dataset\n",
    "data = {\n",
    "    'Area (sq ft)': [1000, 1500, 2000, 2500, 3000, 3500, 4000, 5000],\n",
    "    'Bedrooms': [2, 3, 3, 4, 4, 5, 5,5],\n",
    "    'Age (years)': [5, 10, 15, 20, 25, 30, 35,75],\n",
    "    'Price (in lakhs)': [50, 70, 90, 110, 130, 150, 170,34]\n",
    "}\n",
    "\n",
    "df = pd.DataFrame(data)\n",
    "print(df)\n"
   ]
  },
  {
   "cell_type": "code",
   "execution_count": 21,
   "id": "f0489601-f318-4005-8b83-fb5bcfd71d55",
   "metadata": {},
   "outputs": [
    {
     "name": "stdout",
     "output_type": "stream",
     "text": [
      "Training and testing data prepared.\n"
     ]
    }
   ],
   "source": [
    "# Splitting data into input (X) and output (Y)\n",
    "X = df[['Area (sq ft)', 'Bedrooms', 'Age (years)']]\n",
    "y = df['Price (in lakhs)']\n",
    "\n",
    "# Split into 80% training and 20% testing\n",
    "X_train, X_test, y_train, y_test = train_test_split(X, y, test_size=0.2, random_state=42)\n",
    "\n",
    "print(\"Training and testing data prepared.\")\n"
   ]
  },
  {
   "cell_type": "code",
   "execution_count": 22,
   "id": "217c1a1e-fe8a-4615-94df-bea4b1624699",
   "metadata": {},
   "outputs": [
    {
     "name": "stdout",
     "output_type": "stream",
     "text": [
      "Model trained successfully!\n"
     ]
    }
   ],
   "source": [
    "# Train the model\n",
    "model = LinearRegression()\n",
    "model.fit(X_train, y_train)\n",
    "\n",
    "print(\"Model trained successfully!\")\n"
   ]
  },
  {
   "cell_type": "code",
   "execution_count": 23,
   "id": "7f50de1f-1396-4ddd-9cbb-0286e53ad936",
   "metadata": {},
   "outputs": [
    {
     "name": "stdout",
     "output_type": "stream",
     "text": [
      "   Actual  Predicted\n",
      "1      70       70.0\n",
      "5     150      150.0\n",
      "Mean Absolute Error: 0.00 lakhs\n"
     ]
    }
   ],
   "source": [
    "# Predicting values\n",
    "y_pred = model.predict(X_test)\n",
    "\n",
    "\n",
    "# Display predictions vs actual prices\n",
    "df_results = pd.DataFrame({'Actual': y_test, 'Predicted': y_pred})\n",
    "print(df_results)\n",
    "\n",
    "# Check error\n",
    "error = mean_absolute_error(y_test, y_pred)\n",
    "print(f\"Mean Absolute Error: {error:.2f} lakhs\")\n"
   ]
  },
  {
   "cell_type": "code",
   "execution_count": null,
   "id": "8a79d967-00f0-4350-8d15-dc564ec741b4",
   "metadata": {},
   "outputs": [],
   "source": []
  }
 ],
 "metadata": {
  "kernelspec": {
   "display_name": "Python 3 (ipykernel)",
   "language": "python",
   "name": "python3"
  },
  "language_info": {
   "codemirror_mode": {
    "name": "ipython",
    "version": 3
   },
   "file_extension": ".py",
   "mimetype": "text/x-python",
   "name": "python",
   "nbconvert_exporter": "python",
   "pygments_lexer": "ipython3",
   "version": "3.11.9"
  }
 },
 "nbformat": 4,
 "nbformat_minor": 5
}
